{
 "cells": [
  {
   "cell_type": "markdown",
   "id": "669b3f30",
   "metadata": {},
   "source": [
    "### A FUNCTION IS A BLOCK OF REUSABLE CODE THAT RUNS WHEN CALLED\n"
   ]
  },
  {
   "cell_type": "code",
   "execution_count": 1,
   "id": "b71035b4",
   "metadata": {},
   "outputs": [
    {
     "name": "stdout",
     "output_type": "stream",
     "text": [
      "('CPU', 'MOUSE', 'KEYBOARD')\n"
     ]
    }
   ],
   "source": [
    "computer_accessories=(\"CPU\",\"MOUSE\",\"KEYBOARD\")\n",
    "print(computer_accessories)"
   ]
  },
  {
   "cell_type": "code",
   "execution_count": 2,
   "id": "562694b0",
   "metadata": {},
   "outputs": [
    {
     "name": "stdout",
     "output_type": "stream",
     "text": [
      "1\n",
      "\n",
      "\n",
      "2\n",
      "\n",
      "\n",
      "this gives space between line\n"
     ]
    }
   ],
   "source": [
    "print(1)\n",
    "print('\\n')\n",
    "print(2)\n",
    "print(('\\n'))\n",
    "print(\"this gives space between line\")\n"
   ]
  },
  {
   "cell_type": "code",
   "execution_count": 3,
   "id": "e2975812",
   "metadata": {},
   "outputs": [
    {
     "name": "stdout",
     "output_type": "stream",
     "text": [
      "hello,i'm curious to learn#data#science\n"
     ]
    }
   ],
   "source": [
    "print(\"hello,i'm curious to learn\", \"data\" ,\"science\",sep='#')\n"
   ]
  },
  {
   "cell_type": "code",
   "execution_count": 4,
   "id": "524d8fa1",
   "metadata": {},
   "outputs": [
    {
     "name": "stdout",
     "output_type": "stream",
     "text": [
      "hello,i'm curious to learn\n",
      "data\n",
      "science\n"
     ]
    }
   ],
   "source": [
    "print(\"hello,i'm curious to learn\", \"data\" ,\"science\",sep='\\n')"
   ]
  },
  {
   "cell_type": "code",
   "execution_count": 5,
   "id": "a69a0a41",
   "metadata": {},
   "outputs": [
    {
     "name": "stdout",
     "output_type": "stream",
     "text": [
      "hello,i'm curious to learn\tdata\tscience\n"
     ]
    }
   ],
   "source": [
    "print(\"hello,i'm curious to learn\", \"data\" ,\"science\",sep='\\t')"
   ]
  },
  {
   "cell_type": "code",
   "execution_count": 6,
   "id": "31f42cb7",
   "metadata": {},
   "outputs": [
    {
     "name": "stdout",
     "output_type": "stream",
     "text": [
      "hello,i'm curious to learn\f",
      "data\f",
      "science\n"
     ]
    }
   ],
   "source": [
    "print(\"hello,i'm curious to learn\", \"data\" ,\"science\",sep='\\f')"
   ]
  },
  {
   "cell_type": "code",
   "execution_count": 7,
   "id": "1f028147",
   "metadata": {},
   "outputs": [
    {
     "name": "stdout",
     "output_type": "stream",
     "text": [
      "hello,i'm curious to learn\r",
      "data\r",
      "science\n"
     ]
    }
   ],
   "source": [
    "print(\"hello,i'm curious to learn\", \"data\" ,\"science\",sep='\\r')"
   ]
  },
  {
   "cell_type": "code",
   "execution_count": 8,
   "id": "53384228",
   "metadata": {},
   "outputs": [
    {
     "name": "stdout",
     "output_type": "stream",
     "text": [
      "This is akash's car\n"
     ]
    }
   ],
   "source": [
    "print(\"This is akash's car\")"
   ]
  },
  {
   "cell_type": "code",
   "execution_count": 9,
   "id": "5296ae04",
   "metadata": {},
   "outputs": [
    {
     "name": "stdout",
     "output_type": "stream",
     "text": [
      "This is akash\"s car\n"
     ]
    }
   ],
   "source": [
    "print(\"This is akash\\\"s car\")"
   ]
  },
  {
   "cell_type": "code",
   "execution_count": 11,
   "id": "04f0a9d6",
   "metadata": {},
   "outputs": [
    {
     "ename": "SyntaxError",
     "evalue": "EOL while scanning string literal (<ipython-input-11-d232df84fe53>, line 2)",
     "output_type": "error",
     "traceback": [
      "\u001b[1;36m  File \u001b[1;32m\"<ipython-input-11-d232df84fe53>\"\u001b[1;36m, line \u001b[1;32m2\u001b[0m\n\u001b[1;33m    print(\"Python is fun')\u001b[0m\n\u001b[1;37m                          ^\u001b[0m\n\u001b[1;31mSyntaxError\u001b[0m\u001b[1;31m:\u001b[0m EOL while scanning string literal\n"
     ]
    }
   ],
   "source": [
    "# end of line error as different quotations are used\n",
    "print(\"Python is fun')"
   ]
  },
  {
   "cell_type": "code",
   "execution_count": 12,
   "id": "73829ed8",
   "metadata": {},
   "outputs": [
    {
     "name": "stdout",
     "output_type": "stream",
     "text": [
      "pythonis fun\n"
     ]
    }
   ],
   "source": [
    "print(\"python\"+\"is fun\")"
   ]
  },
  {
   "cell_type": "code",
   "execution_count": 13,
   "id": "aa0cf745",
   "metadata": {},
   "outputs": [
    {
     "ename": "TypeError",
     "evalue": "can only concatenate str (not \"float\") to str",
     "output_type": "error",
     "traceback": [
      "\u001b[1;31m---------------------------------------------------------------------------\u001b[0m",
      "\u001b[1;31mTypeError\u001b[0m                                 Traceback (most recent call last)",
      "\u001b[1;32m<ipython-input-13-a3422e873bf9>\u001b[0m in \u001b[0;36m<module>\u001b[1;34m\u001b[0m\n\u001b[1;32m----> 1\u001b[1;33m \u001b[0mprint\u001b[0m\u001b[1;33m(\u001b[0m\u001b[1;34m\"python\"\u001b[0m\u001b[1;33m+\u001b[0m\u001b[1;36m3.9\u001b[0m\u001b[1;33m)\u001b[0m\u001b[1;33m\u001b[0m\u001b[1;33m\u001b[0m\u001b[0m\n\u001b[0m",
      "\u001b[1;31mTypeError\u001b[0m: can only concatenate str (not \"float\") to str"
     ]
    }
   ],
   "source": [
    "print(\"python\"+3.9)"
   ]
  },
  {
   "cell_type": "code",
   "execution_count": 14,
   "id": "642d62d3",
   "metadata": {},
   "outputs": [
    {
     "name": "stdout",
     "output_type": "stream",
     "text": [
      "python3.9\n"
     ]
    }
   ],
   "source": [
    "print(\"python\"+str(3.9))"
   ]
  },
  {
   "cell_type": "markdown",
   "id": "fc9466f8",
   "metadata": {},
   "source": [
    "### bitwise and"
   ]
  },
  {
   "cell_type": "code",
   "execution_count": 15,
   "id": "e47c9cf9",
   "metadata": {},
   "outputs": [
    {
     "data": {
      "text/plain": [
       "0"
      ]
     },
     "execution_count": 15,
     "metadata": {},
     "output_type": "execute_result"
    }
   ],
   "source": [
    "a = 10 # 1010 (Binary)\n",
    "b = 4 #  0100 (Binary)\n",
    "a & b"
   ]
  },
  {
   "cell_type": "markdown",
   "id": "8569e882",
   "metadata": {},
   "source": [
    "### bitwise or"
   ]
  },
  {
   "cell_type": "code",
   "execution_count": 16,
   "id": "babd8531",
   "metadata": {},
   "outputs": [
    {
     "data": {
      "text/plain": [
       "14"
      ]
     },
     "execution_count": 16,
     "metadata": {},
     "output_type": "execute_result"
    }
   ],
   "source": [
    "a|b"
   ]
  },
  {
   "cell_type": "markdown",
   "id": "285f76c3",
   "metadata": {},
   "source": [
    "### bitwise comp"
   ]
  },
  {
   "cell_type": "code",
   "execution_count": 17,
   "id": "aec8c3f8",
   "metadata": {},
   "outputs": [
    {
     "data": {
      "text/plain": [
       "-11"
      ]
     },
     "execution_count": 17,
     "metadata": {},
     "output_type": "execute_result"
    }
   ],
   "source": [
    "~a"
   ]
  },
  {
   "cell_type": "code",
   "execution_count": 18,
   "id": "c795c3da",
   "metadata": {},
   "outputs": [],
   "source": [
    "# This function expects 2 arguments, and gets 2 arguments:"
   ]
  },
  {
   "cell_type": "code",
   "execution_count": 19,
   "id": "ed891976",
   "metadata": {},
   "outputs": [
    {
     "name": "stdout",
     "output_type": "stream",
     "text": [
      "mohammed arshad\n"
     ]
    }
   ],
   "source": [
    "def my_function(fname, lname):\n",
    "  print(fname + \" \" + lname)\n",
    "\n",
    "my_function(\"mohammed\",\"arshad\")"
   ]
  }
 ],
 "metadata": {
  "kernelspec": {
   "display_name": "Python 3",
   "language": "python",
   "name": "python3"
  },
  "language_info": {
   "codemirror_mode": {
    "name": "ipython",
    "version": 3
   },
   "file_extension": ".py",
   "mimetype": "text/x-python",
   "name": "python",
   "nbconvert_exporter": "python",
   "pygments_lexer": "ipython3",
   "version": "3.8.8"
  }
 },
 "nbformat": 4,
 "nbformat_minor": 5
}
