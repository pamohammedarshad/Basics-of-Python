{
 "cells": [
  {
   "cell_type": "code",
   "execution_count": 1,
   "id": "cd9d541b",
   "metadata": {},
   "outputs": [
    {
     "name": "stdout",
     "output_type": "stream",
     "text": [
      "8 is greater than 0\n",
      "this is always printed\n"
     ]
    }
   ],
   "source": [
    "# check if a num greater than zero\n",
    "num=8\n",
    "if(num>0):\n",
    "    print(num,\"is greater than 0\")\n",
    "print(\"this is always printed\")\n"
   ]
  },
  {
   "cell_type": "code",
   "execution_count": 2,
   "id": "6d69bbb0",
   "metadata": {},
   "outputs": [
    {
     "name": "stdout",
     "output_type": "stream",
     "text": [
      "this is always printed\n"
     ]
    }
   ],
   "source": [
    "# check a num greater than zero\n",
    "num=-1\n",
    "if(num>0):\n",
    "    print(num,\"is greater than zero\")\n",
    "print(\"this is always printed\")"
   ]
  },
  {
   "cell_type": "code",
   "execution_count": 3,
   "id": "6f93da33",
   "metadata": {},
   "outputs": [
    {
     "name": "stdout",
     "output_type": "stream",
     "text": [
      "0 is equal to zero\n"
     ]
    }
   ],
   "source": [
    "num = 0\n",
    "if(num>0):\n",
    "    print(num,\"is greater than 0\")\n",
    "elif(num<0):\n",
    "    print(num,\"is lesser than 0\")\n",
    "else: \n",
    "    print(num,\"is equal to zero\")"
   ]
  },
  {
   "cell_type": "code",
   "execution_count": 4,
   "id": "7cffccd7",
   "metadata": {},
   "outputs": [
    {
     "name": "stdout",
     "output_type": "stream",
     "text": [
      "enter n1  5\n",
      "enter n2  7\n",
      "enter n3  1\n",
      "7 is greatest\n"
     ]
    }
   ],
   "source": [
    "#find largest among three numbers\n",
    "n1=int(input(\"enter n1  \"))\n",
    "n2=int(input(\"enter n2  \"))\n",
    "n3=int(input(\"enter n3  \"))\n",
    "if(n1>n2):\n",
    "    if(n1>n2):\n",
    "        print(n1,\"is greatest\")\n",
    "elif(n2>n3):\n",
    "    print(n2,\"is greatest\")\n",
    "else:\n",
    "    print(n3,\"is greatest\")\n"
   ]
  },
  {
   "cell_type": "markdown",
   "id": "3f2023c1",
   "metadata": {},
   "source": [
    "#### WHILE LOOP"
   ]
  },
  {
   "cell_type": "code",
   "execution_count": 5,
   "id": "eb024bb8",
   "metadata": {},
   "outputs": [
    {
     "name": "stdout",
     "output_type": "stream",
     "text": [
      "55\n"
     ]
    }
   ],
   "source": [
    "num=10\n",
    "i=1\n",
    "sum=0\n",
    "while(i<=10):\n",
    "    sum=sum+i\n",
    "    i+=1\n",
    "print(sum)"
   ]
  },
  {
   "cell_type": "markdown",
   "id": "ba84d7b1",
   "metadata": {},
   "source": [
    "###### adding odd 10 nos"
   ]
  },
  {
   "cell_type": "code",
   "execution_count": 6,
   "id": "b889db45",
   "metadata": {
    "scrolled": true
   },
   "outputs": [
    {
     "name": "stdout",
     "output_type": "stream",
     "text": [
      "100\n"
     ]
    }
   ],
   "source": [
    "i=1\n",
    "sum=0\n",
    "count=0\n",
    "while(count<10):\n",
    "    sum=sum+i\n",
    "    i=i+2\n",
    "    count=count+1\n",
    "print(sum)\n",
    "    "
   ]
  },
  {
   "cell_type": "code",
   "execution_count": 7,
   "id": "7fdd1589",
   "metadata": {},
   "outputs": [],
   "source": [
    "# complete shortcut keys\n",
    "#difference etween for and while\n",
    "# data analytics with python and r\n",
    "#why python is preffered"
   ]
  },
  {
   "cell_type": "markdown",
   "id": "e72eaf34",
   "metadata": {},
   "source": [
    "### FOR LOOP"
   ]
  },
  {
   "cell_type": "code",
   "execution_count": 8,
   "id": "7641348c",
   "metadata": {},
   "outputs": [
    {
     "name": "stdout",
     "output_type": "stream",
     "text": [
      "addition is: 55\n"
     ]
    }
   ],
   "source": [
    "number= range(1,11)\n",
    "add=0\n",
    "for i in number:\n",
    "    add=add+i\n",
    "print(\"addition is:\",add)\n",
    "    "
   ]
  },
  {
   "cell_type": "markdown",
   "id": "5133f9b7",
   "metadata": {},
   "source": [
    "### BREAK STATEMENT"
   ]
  },
  {
   "cell_type": "code",
   "execution_count": 9,
   "id": "3f758bad",
   "metadata": {},
   "outputs": [
    {
     "name": "stdout",
     "output_type": "stream",
     "text": [
      "M\n",
      "o\n",
      "h\n",
      "a\n",
      "m\n",
      "m\n",
      "e\n",
      "d\n",
      "loop stopped executing\n"
     ]
    }
   ],
   "source": [
    "text='Mohammed Arshad'\n",
    "for letter in text:\n",
    "    if letter ==' ':\n",
    "        break \n",
    "    print(letter)\n",
    "print(\"loop stopped executing\")"
   ]
  },
  {
   "cell_type": "code",
   "execution_count": 10,
   "id": "62a9d5a0",
   "metadata": {},
   "outputs": [
    {
     "name": "stdout",
     "output_type": "stream",
     "text": [
      "M\n",
      "o\n",
      "h\n",
      "a\n",
      "m\n",
      "m\n",
      "e\n",
      "d\n",
      "lets continue\n",
      "A\n",
      "r\n",
      "s\n",
      "h\n",
      "a\n",
      "d\n"
     ]
    }
   ],
   "source": [
    "text='Mohammed Arshad'\n",
    "for letter in text:\n",
    "    if letter ==' ':\n",
    "        print(\"lets continue\")\n",
    "        continue\n",
    "    print(letter)\n"
   ]
  },
  {
   "cell_type": "markdown",
   "id": "e6339b25",
   "metadata": {},
   "source": [
    "### NESTED FOR"
   ]
  },
  {
   "cell_type": "code",
   "execution_count": 11,
   "id": "45372d85",
   "metadata": {},
   "outputs": [
    {
     "name": "stdout",
     "output_type": "stream",
     "text": [
      "1 \n",
      "\n",
      "1 2 \n",
      "\n",
      "1 2 3 \n",
      "\n",
      "1 2 3 4 \n",
      "\n"
     ]
    }
   ],
   "source": [
    "for i in range(1,5):\n",
    "    for j in range(1,i+1):\n",
    "        print(j,end=\" \")\n",
    "    print(\"\\n\")"
   ]
  }
 ],
 "metadata": {
  "kernelspec": {
   "display_name": "Python 3",
   "language": "python",
   "name": "python3"
  },
  "language_info": {
   "codemirror_mode": {
    "name": "ipython",
    "version": 3
   },
   "file_extension": ".py",
   "mimetype": "text/x-python",
   "name": "python",
   "nbconvert_exporter": "python",
   "pygments_lexer": "ipython3",
   "version": "3.8.8"
  }
 },
 "nbformat": 4,
 "nbformat_minor": 5
}
