{
 "cells": [
  {
   "cell_type": "markdown",
   "id": "c449facc",
   "metadata": {},
   "source": [
    "# ADDITION"
   ]
  },
  {
   "cell_type": "markdown",
   "id": "800febcf",
   "metadata": {},
   "source": [
    "### Adding two integers"
   ]
  },
  {
   "cell_type": "code",
   "execution_count": 1,
   "id": "5872613c",
   "metadata": {},
   "outputs": [],
   "source": [
    "x=5\n",
    "y=7\n",
    "v=x+y\n",
    "v"
   ]
  },
  {
   "cell_type": "markdown",
   "id": "04e60c95",
   "metadata": {},
   "source": [
    "### Adding float and int"
   ]
  },
  {
   "cell_type": "code",
   "execution_count": 2,
   "id": "65ade28a",
   "metadata": {},
   "outputs": [],
   "source": [
    "x=5.5\n",
    "y=6\n",
    "v=x+y\n",
    "v"
   ]
  },
  {
   "cell_type": "code",
   "execution_count": 3,
   "id": "f8666c78",
   "metadata": {},
   "outputs": [],
   "source": [
    "### MODULO\n",
    "#IF A>B\n",
    "A=100\n",
    "B=20\n",
    "A%B\n"
   ]
  },
  {
   "cell_type": "code",
   "execution_count": 4,
   "id": "e6fe7a1d",
   "metadata": {},
   "outputs": [],
   "source": [
    "#IF A<B\n",
    "A=20\n",
    "B=100\n",
    "A%B"
   ]
  },
  {
   "cell_type": "code",
   "execution_count": 5,
   "id": "a6df989d",
   "metadata": {},
   "outputs": [
    {
     "data": {
      "text/plain": [
       "32"
      ]
     },
     "execution_count": 5,
     "metadata": {},
     "output_type": "execute_result"
    }
   ],
   "source": [
    "#EXPONENTIAAL\n",
    "A=2\n",
    "B=5\n",
    "A**B"
   ]
  },
  {
   "cell_type": "code",
   "execution_count": 6,
   "id": "4b142221",
   "metadata": {},
   "outputs": [
    {
     "data": {
      "text/plain": [
       "0"
      ]
     },
     "execution_count": 6,
     "metadata": {},
     "output_type": "execute_result"
    }
   ],
   "source": [
    "#Floor division\n",
    "#IF A>B\n",
    "A=4\n",
    "B=7\n",
    "A//B"
   ]
  },
  {
   "cell_type": "code",
   "execution_count": 7,
   "id": "4e6066b6",
   "metadata": {},
   "outputs": [
    {
     "data": {
      "text/plain": [
       "5"
      ]
     },
     "execution_count": 7,
     "metadata": {},
     "output_type": "execute_result"
    }
   ],
   "source": [
    "#IF A > B\n",
    "A=100\n",
    "B=20\n",
    "A//B"
   ]
  },
  {
   "cell_type": "markdown",
   "id": "b126a741",
   "metadata": {},
   "source": [
    "# --------------------------------------------------------------------------------------------"
   ]
  },
  {
   "cell_type": "code",
   "execution_count": 1,
   "id": "86f83255",
   "metadata": {},
   "outputs": [
    {
     "name": "stdout",
     "output_type": "stream",
     "text": [
      "Enter your nameP.A. Mohammed Arshad\n",
      "hi P.A. Mohammed Arshad\n"
     ]
    }
   ],
   "source": [
    "name=input(\"Enter your name\")\n",
    "print(\"hi\",name)"
   ]
  },
  {
   "cell_type": "code",
   "execution_count": 2,
   "id": "91594a0e",
   "metadata": {},
   "outputs": [
    {
     "name": "stdout",
     "output_type": "stream",
     "text": [
      "Enter the price of your phone:20000\n",
      "20000\n"
     ]
    }
   ],
   "source": [
    "price=int(input(\"Enter the price of your phone:\"))\n",
    "print(price)"
   ]
  },
  {
   "cell_type": "markdown",
   "id": "43353f6a",
   "metadata": {},
   "source": [
    "### Relational operator"
   ]
  },
  {
   "cell_type": "code",
   "execution_count": 3,
   "id": "988f0e69",
   "metadata": {},
   "outputs": [
    {
     "data": {
      "text/plain": [
       "False"
      ]
     },
     "execution_count": 3,
     "metadata": {},
     "output_type": "execute_result"
    }
   ],
   "source": [
    "X=5\n",
    "Y=7.5\n",
    "X==Y"
   ]
  },
  {
   "cell_type": "code",
   "execution_count": 4,
   "id": "e8cabe1e",
   "metadata": {},
   "outputs": [
    {
     "data": {
      "text/plain": [
       "False"
      ]
     },
     "execution_count": 4,
     "metadata": {},
     "output_type": "execute_result"
    }
   ],
   "source": [
    "X>Y"
   ]
  },
  {
   "cell_type": "code",
   "execution_count": 5,
   "id": "5377a4a8",
   "metadata": {},
   "outputs": [
    {
     "data": {
      "text/plain": [
       "False"
      ]
     },
     "execution_count": 5,
     "metadata": {},
     "output_type": "execute_result"
    }
   ],
   "source": [
    "X>=Y"
   ]
  },
  {
   "cell_type": "code",
   "execution_count": 6,
   "id": "2b97beb3",
   "metadata": {},
   "outputs": [
    {
     "data": {
      "text/plain": [
       "True"
      ]
     },
     "execution_count": 6,
     "metadata": {},
     "output_type": "execute_result"
    }
   ],
   "source": [
    "X<Y"
   ]
  },
  {
   "cell_type": "code",
   "execution_count": 7,
   "id": "98d21739",
   "metadata": {},
   "outputs": [
    {
     "data": {
      "text/plain": [
       "True"
      ]
     },
     "execution_count": 7,
     "metadata": {},
     "output_type": "execute_result"
    }
   ],
   "source": [
    "X<=Y"
   ]
  },
  {
   "cell_type": "code",
   "execution_count": 8,
   "id": "518a8fda",
   "metadata": {},
   "outputs": [
    {
     "data": {
      "text/plain": [
       "True"
      ]
     },
     "execution_count": 8,
     "metadata": {},
     "output_type": "execute_result"
    }
   ],
   "source": [
    "X!=Y"
   ]
  },
  {
   "cell_type": "markdown",
   "id": "60242a2a",
   "metadata": {},
   "source": [
    "### logical operator"
   ]
  },
  {
   "cell_type": "code",
   "execution_count": 9,
   "id": "1727a3fc",
   "metadata": {},
   "outputs": [],
   "source": [
    "X=True\n",
    "Y=False"
   ]
  },
  {
   "cell_type": "code",
   "execution_count": 10,
   "id": "2252837e",
   "metadata": {},
   "outputs": [
    {
     "data": {
      "text/plain": [
       "False"
      ]
     },
     "execution_count": 10,
     "metadata": {},
     "output_type": "execute_result"
    }
   ],
   "source": [
    "X and Y"
   ]
  },
  {
   "cell_type": "code",
   "execution_count": 11,
   "id": "bab94e2a",
   "metadata": {},
   "outputs": [
    {
     "data": {
      "text/plain": [
       "True"
      ]
     },
     "execution_count": 11,
     "metadata": {},
     "output_type": "execute_result"
    }
   ],
   "source": [
    "X or Y"
   ]
  },
  {
   "cell_type": "code",
   "execution_count": 13,
   "id": "dd13b814",
   "metadata": {},
   "outputs": [
    {
     "data": {
      "text/plain": [
       "False"
      ]
     },
     "execution_count": 13,
     "metadata": {},
     "output_type": "execute_result"
    }
   ],
   "source": [
    "not X"
   ]
  },
  {
   "cell_type": "markdown",
   "id": "d0af45ca",
   "metadata": {},
   "source": [
    "##### for numbers\n",
    "x=25\n",
    "x>14 and x<50"
   ]
  },
  {
   "cell_type": "code",
   "execution_count": 14,
   "id": "970b00a2",
   "metadata": {},
   "outputs": [
    {
     "ename": "NameError",
     "evalue": "name 'x' is not defined",
     "output_type": "error",
     "traceback": [
      "\u001b[1;31m---------------------------------------------------------------------------\u001b[0m",
      "\u001b[1;31mNameError\u001b[0m                                 Traceback (most recent call last)",
      "\u001b[1;32m<ipython-input-14-33c80feb4cc3>\u001b[0m in \u001b[0;36m<module>\u001b[1;34m\u001b[0m\n\u001b[1;32m----> 1\u001b[1;33m \u001b[0mx\u001b[0m\u001b[1;33m==\u001b[0m\u001b[1;36m34\u001b[0m \u001b[1;32mor\u001b[0m \u001b[0mx\u001b[0m\u001b[1;33m==\u001b[0m\u001b[1;36m25\u001b[0m\u001b[1;33m\u001b[0m\u001b[1;33m\u001b[0m\u001b[0m\n\u001b[0m",
      "\u001b[1;31mNameError\u001b[0m: name 'x' is not defined"
     ]
    }
   ],
   "source": [
    "x==34 or x==25"
   ]
  },
  {
   "cell_type": "code",
   "execution_count": null,
   "id": "9ef95fda",
   "metadata": {},
   "outputs": [],
   "source": [
    "x!=25"
   ]
  },
  {
   "cell_type": "code",
   "execution_count": null,
   "id": "3e708b54",
   "metadata": {},
   "outputs": [],
   "source": [
    "not x<12 and x>50"
   ]
  },
  {
   "cell_type": "code",
   "execution_count": null,
   "id": "c924068f",
   "metadata": {},
   "outputs": [],
   "source": [
    "name = 'prema latha'\n",
    "#check whether ma latha in string\n",
    "print(\"ma latha\" in name)"
   ]
  },
  {
   "cell_type": "code",
   "execution_count": null,
   "id": "f29f55a1",
   "metadata": {},
   "outputs": [],
   "source": [
    "class1 = \" prema\"\n",
    "print(\"latha\" not in class1)"
   ]
  },
  {
   "cell_type": "code",
   "execution_count": null,
   "id": "f2e5a987",
   "metadata": {},
   "outputs": [],
   "source": [
    "number = 10\n",
    "(number%2==0)&(number%3==0)\n"
   ]
  },
  {
   "cell_type": "markdown",
   "id": "8cd56339",
   "metadata": {},
   "source": [
    "###  Arithmetic operators"
   ]
  },
  {
   "cell_type": "code",
   "execution_count": 16,
   "id": "a984c721",
   "metadata": {},
   "outputs": [
    {
     "name": "stdout",
     "output_type": "stream",
     "text": [
      "x + y = 19\n"
     ]
    }
   ],
   "source": [
    "x = 15\n",
    "y = 4\n",
    "print('x + y =',x+y)"
   ]
  },
  {
   "cell_type": "code",
   "execution_count": 17,
   "id": "2c9c0ae3",
   "metadata": {},
   "outputs": [
    {
     "name": "stdout",
     "output_type": "stream",
     "text": [
      "x - y = 11\n"
     ]
    }
   ],
   "source": [
    "print('x - y =',x-y)"
   ]
  },
  {
   "cell_type": "code",
   "execution_count": 18,
   "id": "b332339a",
   "metadata": {},
   "outputs": [
    {
     "name": "stdout",
     "output_type": "stream",
     "text": [
      "x * y = 60\n"
     ]
    }
   ],
   "source": [
    "print('x * y =',x*y)"
   ]
  },
  {
   "cell_type": "code",
   "execution_count": 19,
   "id": "995c7c1f",
   "metadata": {},
   "outputs": [
    {
     "name": "stdout",
     "output_type": "stream",
     "text": [
      "x / y = 3.75\n"
     ]
    }
   ],
   "source": [
    "print('x / y =',x/y)"
   ]
  },
  {
   "cell_type": "code",
   "execution_count": 20,
   "id": "0ffd3e62",
   "metadata": {},
   "outputs": [
    {
     "name": "stdout",
     "output_type": "stream",
     "text": [
      "x // y = 3\n"
     ]
    }
   ],
   "source": [
    "print('x // y =',x//y)"
   ]
  },
  {
   "cell_type": "code",
   "execution_count": 21,
   "id": "be5aad8d",
   "metadata": {},
   "outputs": [
    {
     "name": "stdout",
     "output_type": "stream",
     "text": [
      "x ** y = 50625\n"
     ]
    }
   ],
   "source": [
    "print('x ** y =',x**y)"
   ]
  },
  {
   "cell_type": "markdown",
   "id": "6fa27d42",
   "metadata": {},
   "source": [
    "### Comparison operators"
   ]
  },
  {
   "cell_type": "code",
   "execution_count": 22,
   "id": "4ccb0aa3",
   "metadata": {},
   "outputs": [],
   "source": [
    "x = 10\n",
    "y = 12"
   ]
  },
  {
   "cell_type": "code",
   "execution_count": 23,
   "id": "5a70d656",
   "metadata": {},
   "outputs": [
    {
     "name": "stdout",
     "output_type": "stream",
     "text": [
      "x > y is False\n"
     ]
    }
   ],
   "source": [
    "print('x > y is',x>y)"
   ]
  },
  {
   "cell_type": "code",
   "execution_count": 24,
   "id": "5398c217",
   "metadata": {},
   "outputs": [
    {
     "name": "stdout",
     "output_type": "stream",
     "text": [
      "x == y is False\n"
     ]
    }
   ],
   "source": [
    "print('x == y is',x==y)"
   ]
  },
  {
   "cell_type": "code",
   "execution_count": 25,
   "id": "701079e7",
   "metadata": {},
   "outputs": [
    {
     "name": "stdout",
     "output_type": "stream",
     "text": [
      "x != y is True\n"
     ]
    }
   ],
   "source": [
    "print('x != y is',x!=y)"
   ]
  },
  {
   "cell_type": "code",
   "execution_count": 26,
   "id": "22bd48ad",
   "metadata": {},
   "outputs": [
    {
     "name": "stdout",
     "output_type": "stream",
     "text": [
      "x <= y is True\n"
     ]
    }
   ],
   "source": [
    "print('x <= y is',x<=y)"
   ]
  },
  {
   "cell_type": "markdown",
   "id": "7f4cc630",
   "metadata": {},
   "source": [
    "### Assignment operators"
   ]
  },
  {
   "cell_type": "code",
   "execution_count": 27,
   "id": "07e1c5f9",
   "metadata": {},
   "outputs": [
    {
     "data": {
      "text/plain": [
       "15"
      ]
     },
     "execution_count": 27,
     "metadata": {},
     "output_type": "execute_result"
    }
   ],
   "source": [
    "x += 5\n",
    "x"
   ]
  },
  {
   "cell_type": "code",
   "execution_count": 28,
   "id": "d920e695",
   "metadata": {},
   "outputs": [
    {
     "data": {
      "text/plain": [
       "3.0"
      ]
     },
     "execution_count": 28,
     "metadata": {},
     "output_type": "execute_result"
    }
   ],
   "source": [
    "x /= 5\n",
    "x"
   ]
  },
  {
   "cell_type": "code",
   "execution_count": 29,
   "id": "3b1ab6c2",
   "metadata": {},
   "outputs": [
    {
     "data": {
      "text/plain": [
       "0.0"
      ]
     },
     "execution_count": 29,
     "metadata": {},
     "output_type": "execute_result"
    }
   ],
   "source": [
    "x //= 5\n",
    "x"
   ]
  }
 ],
 "metadata": {
  "kernelspec": {
   "display_name": "Python 3",
   "language": "python",
   "name": "python3"
  },
  "language_info": {
   "codemirror_mode": {
    "name": "ipython",
    "version": 3
   },
   "file_extension": ".py",
   "mimetype": "text/x-python",
   "name": "python",
   "nbconvert_exporter": "python",
   "pygments_lexer": "ipython3",
   "version": "3.8.8"
  }
 },
 "nbformat": 4,
 "nbformat_minor": 5
}
