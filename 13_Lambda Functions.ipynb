{
 "cells": [
  {
   "cell_type": "markdown",
   "id": "e6dc55f6",
   "metadata": {},
   "source": [
    "### syntax lambda arguments : expression"
   ]
  },
  {
   "cell_type": "code",
   "execution_count": 1,
   "id": "31cec085",
   "metadata": {},
   "outputs": [],
   "source": [
    "# lambda arguments : expression"
   ]
  },
  {
   "cell_type": "code",
   "execution_count": 1,
   "id": "4ac694b4",
   "metadata": {},
   "outputs": [],
   "source": [
    "#to find greatest of two numbers\n",
    "\n",
    "def greater(num1,num2):\n",
    "    if (num1>num2):\n",
    "        return num1\n",
    "    else:\n",
    "        return num2"
   ]
  },
  {
   "cell_type": "code",
   "execution_count": 2,
   "id": "f33591a7",
   "metadata": {},
   "outputs": [
    {
     "name": "stdout",
     "output_type": "stream",
     "text": [
      "10\n"
     ]
    }
   ],
   "source": [
    "great = greater(7,10)\n",
    "print(great)"
   ]
  },
  {
   "cell_type": "code",
   "execution_count": 2,
   "id": "60c27d55",
   "metadata": {},
   "outputs": [],
   "source": [
    "# finding double times a number"
   ]
  },
  {
   "cell_type": "code",
   "execution_count": 3,
   "id": "b90a878f",
   "metadata": {},
   "outputs": [
    {
     "name": "stdout",
     "output_type": "stream",
     "text": [
      "22\n"
     ]
    }
   ],
   "source": [
    "def myfunc(n):\n",
    "  return lambda a : a * n\n",
    "\n",
    "mydoubler = myfunc(2)\n",
    "\n",
    "print(mydoubler(11))"
   ]
  }
 ],
 "metadata": {
  "kernelspec": {
   "display_name": "Python 3",
   "language": "python",
   "name": "python3"
  },
  "language_info": {
   "codemirror_mode": {
    "name": "ipython",
    "version": 3
   },
   "file_extension": ".py",
   "mimetype": "text/x-python",
   "name": "python",
   "nbconvert_exporter": "python",
   "pygments_lexer": "ipython3",
   "version": "3.8.8"
  }
 },
 "nbformat": 4,
 "nbformat_minor": 5
}
