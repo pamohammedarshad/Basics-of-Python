{
 "cells": [
  {
   "cell_type": "markdown",
   "id": "39e9e273",
   "metadata": {},
   "source": [
    "# ONE ASH"
   ]
  },
  {
   "cell_type": "markdown",
   "id": "d1deff19",
   "metadata": {},
   "source": [
    "## TWO ASH"
   ]
  },
  {
   "cell_type": "markdown",
   "id": "a1e71f39",
   "metadata": {},
   "source": [
    "### THREE ASH"
   ]
  },
  {
   "cell_type": "markdown",
   "id": "562c8383",
   "metadata": {},
   "source": [
    "WITHOUT ANY HASH"
   ]
  },
  {
   "cell_type": "markdown",
   "id": "c0cea6c9",
   "metadata": {},
   "source": [
    "### ADD ABOVE => A"
   ]
  },
  {
   "cell_type": "markdown",
   "id": "facb6f10",
   "metadata": {},
   "source": [
    "### ADD BELOW => B"
   ]
  },
  {
   "cell_type": "markdown",
   "id": "abb409b9",
   "metadata": {},
   "source": [
    "### DELETE => X OR DD"
   ]
  },
  {
   "cell_type": "markdown",
   "id": "a1b30784",
   "metadata": {},
   "source": [
    "# Undo => Z\n",
    "\n"
   ]
  },
  {
   "cell_type": "markdown",
   "id": "e1d9285e",
   "metadata": {},
   "source": [
    "# Copy => C"
   ]
  },
  {
   "cell_type": "markdown",
   "id": "3548340b",
   "metadata": {},
   "source": []
  }
 ],
 "metadata": {
  "kernelspec": {
   "display_name": "Python 3",
   "language": "python",
   "name": "python3"
  },
  "language_info": {
   "codemirror_mode": {
    "name": "ipython",
    "version": 3
   },
   "file_extension": ".py",
   "mimetype": "text/x-python",
   "name": "python",
   "nbconvert_exporter": "python",
   "pygments_lexer": "ipython3",
   "version": "3.8.8"
  }
 },
 "nbformat": 4,
 "nbformat_minor": 5
}
