{
 "cells": [
  {
   "cell_type": "markdown",
   "id": "ce7e3029",
   "metadata": {},
   "source": [
    "### Creating a user-defined function"
   ]
  },
  {
   "cell_type": "code",
   "execution_count": 1,
   "id": "0b1425a8",
   "metadata": {},
   "outputs": [],
   "source": [
    "def greet():\n",
    "    print(\"Hello and Welcome\")"
   ]
  },
  {
   "cell_type": "code",
   "execution_count": 2,
   "id": "ede09a79",
   "metadata": {},
   "outputs": [
    {
     "name": "stdout",
     "output_type": "stream",
     "text": [
      "Hello and Welcome\n"
     ]
    }
   ],
   "source": [
    "greet()"
   ]
  },
  {
   "cell_type": "markdown",
   "id": "076c7115",
   "metadata": {},
   "source": [
    "### Function with parameters"
   ]
  },
  {
   "cell_type": "code",
   "execution_count": 4,
   "id": "58f6dab9",
   "metadata": {},
   "outputs": [
    {
     "name": "stdout",
     "output_type": "stream",
     "text": [
      "Enter your name:P.A.MOHAMMED ARSHAD\n",
      "Hello P.A.MOHAMMED ARSHAD Welcome\n"
     ]
    }
   ],
   "source": [
    "def greet(name):\n",
    "    print(\"Hello\",name, \"Welcome\")\n",
    "p_name = input(\"Enter your name:\")\n",
    "greet(p_name)"
   ]
  },
  {
   "cell_type": "code",
   "execution_count": 5,
   "id": "e8cf7545",
   "metadata": {},
   "outputs": [
    {
     "ename": "TypeError",
     "evalue": "greet() missing 1 required positional argument: 'name'",
     "output_type": "error",
     "traceback": [
      "\u001b[1;31m---------------------------------------------------------------------------\u001b[0m",
      "\u001b[1;31mTypeError\u001b[0m                                 Traceback (most recent call last)",
      "\u001b[1;32m<ipython-input-5-99fbc9a67f19>\u001b[0m in \u001b[0;36m<module>\u001b[1;34m\u001b[0m\n\u001b[0;32m      1\u001b[0m \u001b[1;31m#it throws a error if we dont pass the parameters\u001b[0m\u001b[1;33m\u001b[0m\u001b[1;33m\u001b[0m\u001b[1;33m\u001b[0m\u001b[0m\n\u001b[1;32m----> 2\u001b[1;33m \u001b[0mgreet\u001b[0m\u001b[1;33m(\u001b[0m\u001b[1;33m)\u001b[0m\u001b[1;33m\u001b[0m\u001b[1;33m\u001b[0m\u001b[0m\n\u001b[0m",
      "\u001b[1;31mTypeError\u001b[0m: greet() missing 1 required positional argument: 'name'"
     ]
    }
   ],
   "source": [
    "#it throws a error if we dont pass the parameters\n",
    "greet()"
   ]
  },
  {
   "cell_type": "markdown",
   "id": "45d9a289",
   "metadata": {},
   "source": [
    "### Return Keyword"
   ]
  },
  {
   "cell_type": "code",
   "execution_count": 6,
   "id": "46282d5b",
   "metadata": {},
   "outputs": [],
   "source": [
    "def add(n1,n2):\n",
    "    sum=n1+n2\n",
    "    return(sum)"
   ]
  },
  {
   "cell_type": "code",
   "execution_count": 7,
   "id": "5cb24fe2",
   "metadata": {},
   "outputs": [
    {
     "name": "stdout",
     "output_type": "stream",
     "text": [
      "15\n"
     ]
    }
   ],
   "source": [
    "summation=add(5,10)\n",
    "print(summation)"
   ]
  },
  {
   "cell_type": "markdown",
   "id": "9649eac1",
   "metadata": {},
   "source": [
    "# FUNCTION ARGUMENTS"
   ]
  },
  {
   "cell_type": "markdown",
   "id": "a294c19b",
   "metadata": {},
   "source": [
    "### Required Arguments"
   ]
  },
  {
   "cell_type": "code",
   "execution_count": 9,
   "id": "466edb4d",
   "metadata": {},
   "outputs": [
    {
     "data": {
      "text/plain": [
       "15"
      ]
     },
     "execution_count": 9,
     "metadata": {},
     "output_type": "execute_result"
    }
   ],
   "source": [
    "def add(n1,n2):\n",
    "    sum=n1+n2\n",
    "    return(sum)\n",
    "num1=5\n",
    "num2=10\n",
    "add(num1,num2)\n",
    "#n1 and n2 are passed in correct order"
   ]
  },
  {
   "cell_type": "code",
   "execution_count": 10,
   "id": "1926fb31",
   "metadata": {},
   "outputs": [],
   "source": [
    "def greet():\n",
    "    print(\"Hello and Welcome\")"
   ]
  },
  {
   "cell_type": "markdown",
   "id": "cd07bbd8",
   "metadata": {},
   "source": [
    "#No required arguments passed"
   ]
  },
  {
   "cell_type": "code",
   "execution_count": 11,
   "id": "32fb2b70",
   "metadata": {},
   "outputs": [
    {
     "ename": "NameError",
     "evalue": "name 'hello' is not defined",
     "output_type": "error",
     "traceback": [
      "\u001b[1;31m---------------------------------------------------------------------------\u001b[0m",
      "\u001b[1;31mNameError\u001b[0m                                 Traceback (most recent call last)",
      "\u001b[1;32m<ipython-input-11-a75d7781aaeb>\u001b[0m in \u001b[0;36m<module>\u001b[1;34m\u001b[0m\n\u001b[1;32m----> 1\u001b[1;33m \u001b[0mhello\u001b[0m\u001b[1;33m(\u001b[0m\u001b[1;33m)\u001b[0m\u001b[1;33m\u001b[0m\u001b[1;33m\u001b[0m\u001b[0m\n\u001b[0m",
      "\u001b[1;31mNameError\u001b[0m: name 'hello' is not defined"
     ]
    }
   ],
   "source": [
    "hello()"
   ]
  },
  {
   "cell_type": "markdown",
   "id": "3f71e6c5",
   "metadata": {},
   "source": [
    "### Keyword Arguments"
   ]
  },
  {
   "cell_type": "code",
   "execution_count": 17,
   "id": "a386c8b0",
   "metadata": {},
   "outputs": [],
   "source": [
    "def employee(Name,Designation):\n",
    "    print(Name,Designation)"
   ]
  },
  {
   "cell_type": "code",
   "execution_count": 18,
   "id": "cb5c519a",
   "metadata": {},
   "outputs": [
    {
     "name": "stdout",
     "output_type": "stream",
     "text": [
      "MOHAMMED ARSHAD DATA SCIENTIST\n",
      "MOHAMMED ARSHAD DATA SCIENTIST\n"
     ]
    }
   ],
   "source": [
    "employee(Name = 'MOHAMMED ARSHAD',Designation = 'DATA SCIENTIST')\n",
    "employee(Designation = 'DATA SCIENTIST', Name='MOHAMMED ARSHAD')"
   ]
  },
  {
   "cell_type": "markdown",
   "id": "198328e1",
   "metadata": {},
   "source": [
    "### Default Arguments"
   ]
  },
  {
   "cell_type": "code",
   "execution_count": 19,
   "id": "fbc73c10",
   "metadata": {},
   "outputs": [],
   "source": [
    "def emp(name,sal=120000):\n",
    "    print(\"emp_name \",name)\n",
    "    print(\"emp_salary \",sal)"
   ]
  },
  {
   "cell_type": "code",
   "execution_count": 20,
   "id": "5af2bb03",
   "metadata": {},
   "outputs": [
    {
     "name": "stdout",
     "output_type": "stream",
     "text": [
      "emp_name  sam\n",
      "emp_salary  120000\n"
     ]
    }
   ],
   "source": [
    "emp(\"sam\")"
   ]
  },
  {
   "cell_type": "markdown",
   "id": "a68a8d75",
   "metadata": {},
   "source": [
    "### Variable - Length Arguments"
   ]
  },
  {
   "cell_type": "code",
   "execution_count": 29,
   "id": "62c3435a",
   "metadata": {},
   "outputs": [],
   "source": [
    "def addition(*num):\n",
    "    add = 0\n",
    "    for n in num:\n",
    "        add = add + n\n",
    "    print(add)"
   ]
  },
  {
   "cell_type": "code",
   "execution_count": 30,
   "id": "addcbcf8",
   "metadata": {},
   "outputs": [
    {
     "name": "stdout",
     "output_type": "stream",
     "text": [
      "3\n"
     ]
    }
   ],
   "source": [
    "addition(1,2)"
   ]
  },
  {
   "cell_type": "markdown",
   "id": "b1dbe6fc",
   "metadata": {},
   "source": [
    "### Variable Length Keyword Arguments"
   ]
  },
  {
   "cell_type": "code",
   "execution_count": 31,
   "id": "068d1b01",
   "metadata": {},
   "outputs": [],
   "source": [
    "def emp(**details):\n",
    "    print(type(details))\n",
    "    for k , v in details.items():\n",
    "        print(k,\"-->\",v)"
   ]
  },
  {
   "cell_type": "code",
   "execution_count": 32,
   "id": "aa3f8720",
   "metadata": {},
   "outputs": [
    {
     "name": "stdout",
     "output_type": "stream",
     "text": [
      "<class 'dict'>\n",
      "first_name --> Jack\n",
      "Salary --> 100000\n"
     ]
    }
   ],
   "source": [
    "emp(first_name = \"Jack\", Salary = 100000)"
   ]
  }
 ],
 "metadata": {
  "kernelspec": {
   "display_name": "Python 3",
   "language": "python",
   "name": "python3"
  },
  "language_info": {
   "codemirror_mode": {
    "name": "ipython",
    "version": 3
   },
   "file_extension": ".py",
   "mimetype": "text/x-python",
   "name": "python",
   "nbconvert_exporter": "python",
   "pygments_lexer": "ipython3",
   "version": "3.8.8"
  }
 },
 "nbformat": 4,
 "nbformat_minor": 5
}
