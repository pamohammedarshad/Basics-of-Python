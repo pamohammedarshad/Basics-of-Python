{
 "cells": [
  {
   "cell_type": "code",
   "execution_count": 1,
   "id": "28b4fd4d",
   "metadata": {},
   "outputs": [],
   "source": [
    "#tuple cannot be sorted like lists"
   ]
  },
  {
   "cell_type": "markdown",
   "id": "33650f8b",
   "metadata": {},
   "source": [
    "### Creating a Tuple"
   ]
  },
  {
   "cell_type": "code",
   "execution_count": 2,
   "id": "d9c0c33a",
   "metadata": {},
   "outputs": [
    {
     "name": "stdout",
     "output_type": "stream",
     "text": [
      "('Arshad', 'loves', 'Tea', 1, 2, 3)\n"
     ]
    },
    {
     "data": {
      "text/plain": [
       "tuple"
      ]
     },
     "execution_count": 2,
     "metadata": {},
     "output_type": "execute_result"
    }
   ],
   "source": [
    "tup1 = ('Arshad','loves','Tea', 1,2,3)\n",
    "print(tup1)\n",
    "type(tup1)"
   ]
  },
  {
   "cell_type": "code",
   "execution_count": 3,
   "id": "9e2c33c0",
   "metadata": {},
   "outputs": [
    {
     "data": {
      "text/plain": [
       "tuple"
      ]
     },
     "execution_count": 3,
     "metadata": {},
     "output_type": "execute_result"
    }
   ],
   "source": [
    "tup = 1,5,7,8,9,4,3\n",
    "type(tup)\n"
   ]
  },
  {
   "cell_type": "code",
   "execution_count": 4,
   "id": "2383fa72",
   "metadata": {},
   "outputs": [
    {
     "data": {
      "text/plain": [
       "6"
      ]
     },
     "execution_count": 4,
     "metadata": {},
     "output_type": "execute_result"
    }
   ],
   "source": [
    "len(tup1)"
   ]
  },
  {
   "cell_type": "markdown",
   "id": "d3c7f741",
   "metadata": {},
   "source": [
    "### Sorted tuple"
   ]
  },
  {
   "cell_type": "code",
   "execution_count": 5,
   "id": "2724d606",
   "metadata": {},
   "outputs": [
    {
     "data": {
      "text/plain": [
       "[1, 3, 4, 5, 7, 8, 9]"
      ]
     },
     "execution_count": 5,
     "metadata": {},
     "output_type": "execute_result"
    }
   ],
   "source": [
    "sorted(tup)"
   ]
  },
  {
   "cell_type": "code",
   "execution_count": 6,
   "id": "6e797ba6",
   "metadata": {
    "scrolled": true
   },
   "outputs": [
    {
     "data": {
      "text/plain": [
       "[9, 8, 7, 5, 4, 3, 1]"
      ]
     },
     "execution_count": 6,
     "metadata": {},
     "output_type": "execute_result"
    }
   ],
   "source": [
    "sorted(tup,reverse=True)"
   ]
  },
  {
   "cell_type": "code",
   "execution_count": 7,
   "id": "fdfee36d",
   "metadata": {},
   "outputs": [
    {
     "data": {
      "text/plain": [
       "list"
      ]
     },
     "execution_count": 7,
     "metadata": {},
     "output_type": "execute_result"
    }
   ],
   "source": [
    "tup_sorted=sorted(tup)\n",
    "type(tup_sorted)"
   ]
  },
  {
   "cell_type": "markdown",
   "id": "eeecb66a",
   "metadata": {},
   "source": [
    "### Repeated tuple"
   ]
  },
  {
   "cell_type": "code",
   "execution_count": 8,
   "id": "c45d66be",
   "metadata": {},
   "outputs": [
    {
     "name": "stdout",
     "output_type": "stream",
     "text": [
      "(1, 5, 7, 8, 9, 4, 3, 1, 5, 7, 8, 9, 4, 3, 1, 5, 7, 8, 9, 4, 3)\n"
     ]
    }
   ],
   "source": [
    "n=3\n",
    "repeated_tup=tup*n\n",
    "print(repeated_tup)"
   ]
  },
  {
   "cell_type": "markdown",
   "id": "151ec251",
   "metadata": {},
   "source": [
    "### Concatenation"
   ]
  },
  {
   "cell_type": "code",
   "execution_count": 9,
   "id": "cbfd6308",
   "metadata": {},
   "outputs": [
    {
     "name": "stdout",
     "output_type": "stream",
     "text": [
      "(4.5, 5.5, 6.6, 7.0, 4.6, 3.5, 3.6, 4.7, 4.0, 5.5)\n"
     ]
    }
   ],
   "source": [
    "boys_height=(4.5,5.5,6.6,7.0,4.6)\n",
    "girls_height=(3.5,3.6,4.7,4.0,5.5)\n",
    "students_height=boys_height+girls_height\n",
    "print(students_height)"
   ]
  },
  {
   "cell_type": "code",
   "execution_count": 10,
   "id": "eb5af1f9",
   "metadata": {},
   "outputs": [
    {
     "name": "stdout",
     "output_type": "stream",
     "text": [
      "True\n"
     ]
    }
   ],
   "source": [
    "print(5 in tup)"
   ]
  },
  {
   "cell_type": "markdown",
   "id": "8dd500c4",
   "metadata": {},
   "source": [
    "### Slicing"
   ]
  },
  {
   "cell_type": "code",
   "execution_count": 11,
   "id": "d90905ff",
   "metadata": {},
   "outputs": [
    {
     "data": {
      "text/plain": [
       "(1, 5, 7)"
      ]
     },
     "execution_count": 11,
     "metadata": {},
     "output_type": "execute_result"
    }
   ],
   "source": [
    "tup[0:3]"
   ]
  },
  {
   "cell_type": "code",
   "execution_count": 12,
   "id": "3ceec8ae",
   "metadata": {},
   "outputs": [],
   "source": [
    "#Max() and Mi()"
   ]
  },
  {
   "cell_type": "code",
   "execution_count": 13,
   "id": "613770f4",
   "metadata": {},
   "outputs": [
    {
     "data": {
      "text/plain": [
       "9"
      ]
     },
     "execution_count": 13,
     "metadata": {},
     "output_type": "execute_result"
    }
   ],
   "source": [
    "max(tup)"
   ]
  },
  {
   "cell_type": "code",
   "execution_count": 14,
   "id": "18f4bed9",
   "metadata": {},
   "outputs": [
    {
     "data": {
      "text/plain": [
       "1"
      ]
     },
     "execution_count": 14,
     "metadata": {},
     "output_type": "execute_result"
    }
   ],
   "source": [
    "min(tup)"
   ]
  }
 ],
 "metadata": {
  "kernelspec": {
   "display_name": "Python 3",
   "language": "python",
   "name": "python3"
  },
  "language_info": {
   "codemirror_mode": {
    "name": "ipython",
    "version": 3
   },
   "file_extension": ".py",
   "mimetype": "text/x-python",
   "name": "python",
   "nbconvert_exporter": "python",
   "pygments_lexer": "ipython3",
   "version": "3.8.8"
  }
 },
 "nbformat": 4,
 "nbformat_minor": 5
}
