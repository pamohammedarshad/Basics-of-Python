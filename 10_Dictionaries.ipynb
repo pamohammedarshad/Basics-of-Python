{
 "cells": [
  {
   "cell_type": "markdown",
   "id": "c75eff35",
   "metadata": {},
   "source": [
    "### Creating a Dictionary"
   ]
  },
  {
   "cell_type": "code",
   "execution_count": 1,
   "id": "29234775",
   "metadata": {
    "scrolled": true
   },
   "outputs": [
    {
     "name": "stdout",
     "output_type": "stream",
     "text": [
      "{'apple': 1, 'mango': 2, 'orange': 3}\n"
     ]
    }
   ],
   "source": [
    "fruits={\"apple\":1,\"mango\":2,\"orange\":3}\n",
    "print(fruits)"
   ]
  },
  {
   "cell_type": "code",
   "execution_count": 2,
   "id": "da271864",
   "metadata": {},
   "outputs": [
    {
     "data": {
      "text/plain": [
       "1"
      ]
     },
     "execution_count": 2,
     "metadata": {},
     "output_type": "execute_result"
    }
   ],
   "source": [
    "fruits['apple']"
   ]
  },
  {
   "cell_type": "code",
   "execution_count": 3,
   "id": "3d6e8ebd",
   "metadata": {},
   "outputs": [
    {
     "ename": "KeyError",
     "evalue": "''",
     "output_type": "error",
     "traceback": [
      "\u001b[1;31m---------------------------------------------------------------------------\u001b[0m",
      "\u001b[1;31mKeyError\u001b[0m                                  Traceback (most recent call last)",
      "\u001b[1;32m<ipython-input-3-cc57530de93e>\u001b[0m in \u001b[0;36m<module>\u001b[1;34m\u001b[0m\n\u001b[1;32m----> 1\u001b[1;33m \u001b[0mfruits\u001b[0m\u001b[1;33m[\u001b[0m\u001b[1;34m''\u001b[0m\u001b[1;33m]\u001b[0m\u001b[1;33m\u001b[0m\u001b[1;33m\u001b[0m\u001b[0m\n\u001b[0m",
      "\u001b[1;31mKeyError\u001b[0m: ''"
     ]
    }
   ],
   "source": [
    "fruits['']"
   ]
  },
  {
   "cell_type": "markdown",
   "id": "d497ac61",
   "metadata": {},
   "source": [
    "### Count of words"
   ]
  },
  {
   "cell_type": "code",
   "execution_count": 4,
   "id": "8f1cc8bd",
   "metadata": {},
   "outputs": [
    {
     "name": "stdout",
     "output_type": "stream",
     "text": [
      "{'she': 1, 'sells': 1, 'sea': 2, 'shells': 1, 'on': 1, 'the': 1, 'shore': 1}\n"
     ]
    }
   ],
   "source": [
    "twister=\"she sells sea shells on the sea shore \"\n",
    "word_count={}\n",
    "for word in twister.split():\n",
    "    if word not in word_count:\n",
    "        word_count[word]=1 \n",
    "    else:\n",
    "        word_count[word]+=1\n",
    "print(word_count)"
   ]
  },
  {
   "cell_type": "markdown",
   "id": "6a7a9428",
   "metadata": {},
   "source": [
    "### DEFAULT DICTIONARY"
   ]
  },
  {
   "cell_type": "code",
   "execution_count": 5,
   "id": "1ddacc04",
   "metadata": {},
   "outputs": [
    {
     "name": "stdout",
     "output_type": "stream",
     "text": [
      "defaultdict(<class 'int'>, {'she': 1, 'sells': 1, 'sea': 2, 'shells': 1, 'on': 1, 'the': 1, 'shore': 1})\n"
     ]
    }
   ],
   "source": [
    "from collections import defaultdict\n",
    "twister='she sells sea shells on the sea shore'\n",
    "word_count=defaultdict(int)\n",
    "for word in twister.split():\n",
    "    word_count[word]+=1\n",
    "print(word_count)\n"
   ]
  },
  {
   "cell_type": "markdown",
   "id": "fb96e980",
   "metadata": {},
   "source": [
    "### DICTIONARY OPERATION"
   ]
  },
  {
   "cell_type": "code",
   "execution_count": 6,
   "id": "1475dd22",
   "metadata": {},
   "outputs": [
    {
     "data": {
      "text/plain": [
       "{'sanitizer': 3, 'gloves': 4, 'mask': 3}"
      ]
     },
     "execution_count": 6,
     "metadata": {},
     "output_type": "execute_result"
    }
   ],
   "source": [
    "item_purchased = {'sanitizer':3,'gloves':4,'mask':3}\n",
    "purchase_price=item_purchased.copy()\n",
    "purchase_price"
   ]
  },
  {
   "cell_type": "code",
   "execution_count": 7,
   "id": "e43885c2",
   "metadata": {},
   "outputs": [
    {
     "ename": "NameError",
     "evalue": "name 'items_purchased' is not defined",
     "output_type": "error",
     "traceback": [
      "\u001b[1;31m---------------------------------------------------------------------------\u001b[0m",
      "\u001b[1;31mNameError\u001b[0m                                 Traceback (most recent call last)",
      "\u001b[1;32m<ipython-input-7-54023dec4a6d>\u001b[0m in \u001b[0;36m<module>\u001b[1;34m\u001b[0m\n\u001b[0;32m      1\u001b[0m \u001b[0mitem_purchased\u001b[0m \u001b[1;33m=\u001b[0m \u001b[1;33m{\u001b[0m\u001b[1;34m'sanitizer'\u001b[0m\u001b[1;33m:\u001b[0m\u001b[1;36m3\u001b[0m\u001b[1;33m,\u001b[0m\u001b[1;34m'gloves'\u001b[0m\u001b[1;33m:\u001b[0m\u001b[1;36m4\u001b[0m\u001b[1;33m,\u001b[0m\u001b[1;34m'mask'\u001b[0m\u001b[1;33m:\u001b[0m\u001b[1;36m3\u001b[0m\u001b[1;33m}\u001b[0m\u001b[1;33m\u001b[0m\u001b[1;33m\u001b[0m\u001b[0m\n\u001b[1;32m----> 2\u001b[1;33m \u001b[0mitems_purchased\u001b[0m\u001b[1;33m.\u001b[0m\u001b[0mkeys\u001b[0m\u001b[1;33m(\u001b[0m\u001b[1;33m)\u001b[0m\u001b[1;33m\u001b[0m\u001b[1;33m\u001b[0m\u001b[0m\n\u001b[0m\u001b[0;32m      3\u001b[0m \u001b[0mdict_keys\u001b[0m\u001b[1;33m(\u001b[0m\u001b[1;33m[\u001b[0m\u001b[1;34m'sanitizer'\u001b[0m\u001b[1;33m,\u001b[0m\u001b[1;34m'gloves'\u001b[0m\u001b[1;33m,\u001b[0m\u001b[1;34m'mask'\u001b[0m\u001b[1;33m]\u001b[0m\u001b[1;33m)\u001b[0m\u001b[1;33m\u001b[0m\u001b[1;33m\u001b[0m\u001b[0m\n\u001b[0;32m      4\u001b[0m \u001b[0mitems_purchased\u001b[0m\u001b[1;33m.\u001b[0m\u001b[0mvalues\u001b[0m\u001b[1;33m(\u001b[0m\u001b[1;33m)\u001b[0m\u001b[1;33m\u001b[0m\u001b[1;33m\u001b[0m\u001b[0m\n\u001b[0;32m      5\u001b[0m \u001b[0mdict_values\u001b[0m\u001b[1;33m(\u001b[0m\u001b[1;33m[\u001b[0m\u001b[1;36m3\u001b[0m\u001b[1;33m,\u001b[0m\u001b[1;36m4\u001b[0m\u001b[1;33m,\u001b[0m\u001b[1;36m3\u001b[0m\u001b[1;33m]\u001b[0m\u001b[1;33m)\u001b[0m\u001b[1;33m\u001b[0m\u001b[1;33m\u001b[0m\u001b[0m\n",
      "\u001b[1;31mNameError\u001b[0m: name 'items_purchased' is not defined"
     ]
    }
   ],
   "source": [
    "item_purchased = {'sanitizer':3,'gloves':4,'mask':3}\n",
    "items_purchased.keys()\n",
    "dict_keys(['sanitizer','gloves','mask'])\n",
    "items_purchased.values()\n",
    "dict_values([3,4,3])\n",
    "items_purcahsed.item()\n"
   ]
  },
  {
   "cell_type": "code",
   "execution_count": 8,
   "id": "dd4265ff",
   "metadata": {},
   "outputs": [
    {
     "name": "stdout",
     "output_type": "stream",
     "text": [
      "{'brand': 'Ford', 'model': 'Mustang', 'year': 2020}\n"
     ]
    }
   ],
   "source": [
    "thisdict = {\n",
    "  \"brand\": \"Ford\",\n",
    "  \"model\": \"Mustang\",\n",
    "  \"year\": 1964,\n",
    "  \"year\": 2020\n",
    "}\n",
    "print(thisdict)"
   ]
  },
  {
   "cell_type": "code",
   "execution_count": 9,
   "id": "d4f41f7b",
   "metadata": {},
   "outputs": [
    {
     "name": "stdout",
     "output_type": "stream",
     "text": [
      "3\n"
     ]
    }
   ],
   "source": [
    "print(len(thisdict))"
   ]
  },
  {
   "cell_type": "code",
   "execution_count": 10,
   "id": "0c3cdbf5",
   "metadata": {},
   "outputs": [
    {
     "name": "stdout",
     "output_type": "stream",
     "text": [
      "<class 'dict'>\n"
     ]
    }
   ],
   "source": [
    "print(type(thisdict))"
   ]
  },
  {
   "cell_type": "markdown",
   "id": "f8ec7280",
   "metadata": {},
   "source": [
    "### updating a dictionary"
   ]
  },
  {
   "cell_type": "code",
   "execution_count": 11,
   "id": "e184d003",
   "metadata": {},
   "outputs": [],
   "source": [
    "thisdict.update({\"color\": \"red\"})"
   ]
  },
  {
   "cell_type": "code",
   "execution_count": 12,
   "id": "bf06bbf1",
   "metadata": {},
   "outputs": [
    {
     "data": {
      "text/plain": [
       "{'brand': 'Ford', 'model': 'Mustang', 'year': 2020, 'color': 'red'}"
      ]
     },
     "execution_count": 12,
     "metadata": {},
     "output_type": "execute_result"
    }
   ],
   "source": [
    "thisdict"
   ]
  },
  {
   "cell_type": "markdown",
   "id": "079d23d3",
   "metadata": {},
   "source": [
    "### removing an item from dictionaries"
   ]
  },
  {
   "cell_type": "code",
   "execution_count": 13,
   "id": "9bbb3204",
   "metadata": {},
   "outputs": [
    {
     "name": "stdout",
     "output_type": "stream",
     "text": [
      "{'brand': 'Ford', 'year': 1964}\n"
     ]
    }
   ],
   "source": [
    "thisdict = {\n",
    "  \"brand\": \"Ford\",\n",
    "  \"model\": \"Mustang\",\n",
    "  \"year\": 1964\n",
    "}\n",
    "thisdict.pop(\"model\")\n",
    "print(thisdict)"
   ]
  },
  {
   "cell_type": "markdown",
   "id": "db4cea02",
   "metadata": {},
   "source": [
    "### Looping through a dictionary"
   ]
  },
  {
   "cell_type": "code",
   "execution_count": 14,
   "id": "04825b5b",
   "metadata": {},
   "outputs": [
    {
     "name": "stdout",
     "output_type": "stream",
     "text": [
      "brand\n",
      "year\n"
     ]
    }
   ],
   "source": [
    "for x in thisdict:\n",
    "  print(x)"
   ]
  },
  {
   "cell_type": "code",
   "execution_count": 15,
   "id": "d28e3f75",
   "metadata": {},
   "outputs": [
    {
     "name": "stdout",
     "output_type": "stream",
     "text": [
      "brand\n",
      "year\n"
     ]
    }
   ],
   "source": [
    "for x in thisdict.keys():\n",
    "  print(x)"
   ]
  },
  {
   "cell_type": "code",
   "execution_count": 16,
   "id": "9bfe5b68",
   "metadata": {
    "scrolled": true
   },
   "outputs": [
    {
     "name": "stdout",
     "output_type": "stream",
     "text": [
      "brand Ford\n",
      "year 1964\n"
     ]
    }
   ],
   "source": [
    "for x, y in thisdict.items():\n",
    "  print(x, y)"
   ]
  }
 ],
 "metadata": {
  "kernelspec": {
   "display_name": "Python 3",
   "language": "python",
   "name": "python3"
  },
  "language_info": {
   "codemirror_mode": {
    "name": "ipython",
    "version": 3
   },
   "file_extension": ".py",
   "mimetype": "text/x-python",
   "name": "python",
   "nbconvert_exporter": "python",
   "pygments_lexer": "ipython3",
   "version": "3.8.8"
  }
 },
 "nbformat": 4,
 "nbformat_minor": 5
}
