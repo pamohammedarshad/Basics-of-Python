{
 "cells": [
  {
   "cell_type": "markdown",
   "id": "12234b41",
   "metadata": {},
   "source": [
    "### STRING INDEXING"
   ]
  },
  {
   "cell_type": "code",
   "execution_count": 1,
   "id": "e042f236",
   "metadata": {},
   "outputs": [
    {
     "data": {
      "text/plain": [
       "'I'"
      ]
     },
     "execution_count": 1,
     "metadata": {},
     "output_type": "execute_result"
    }
   ],
   "source": [
    "text='I LOVE PYTHON'\n",
    "text[0]\n"
   ]
  },
  {
   "cell_type": "code",
   "execution_count": 2,
   "id": "cd52f9c2",
   "metadata": {},
   "outputs": [
    {
     "data": {
      "text/plain": [
       "' '"
      ]
     },
     "execution_count": 2,
     "metadata": {},
     "output_type": "execute_result"
    }
   ],
   "source": [
    "text[6]"
   ]
  },
  {
   "cell_type": "markdown",
   "id": "c9e4e68c",
   "metadata": {},
   "source": [
    "### TEXT SLICING"
   ]
  },
  {
   "cell_type": "code",
   "execution_count": 3,
   "id": "2704d015",
   "metadata": {},
   "outputs": [
    {
     "data": {
      "text/plain": [
       "'I LOVE PYTHON'"
      ]
     },
     "execution_count": 3,
     "metadata": {},
     "output_type": "execute_result"
    }
   ],
   "source": [
    "text[:]"
   ]
  },
  {
   "cell_type": "code",
   "execution_count": 4,
   "id": "b57ee9b7",
   "metadata": {},
   "outputs": [
    {
     "data": {
      "text/plain": [
       "'I LOVE PYTHON'"
      ]
     },
     "execution_count": 4,
     "metadata": {},
     "output_type": "execute_result"
    }
   ],
   "source": [
    "text[:len(text)]"
   ]
  },
  {
   "cell_type": "code",
   "execution_count": 5,
   "id": "c2184f3d",
   "metadata": {},
   "outputs": [
    {
     "data": {
      "text/plain": [
       "'I LOVE'"
      ]
     },
     "execution_count": 5,
     "metadata": {},
     "output_type": "execute_result"
    }
   ],
   "source": [
    "text[0:6]"
   ]
  },
  {
   "cell_type": "code",
   "execution_count": 6,
   "id": "ee5e3674",
   "metadata": {},
   "outputs": [
    {
     "data": {
      "text/plain": [
       "'PYTHON'"
      ]
     },
     "execution_count": 6,
     "metadata": {},
     "output_type": "execute_result"
    }
   ],
   "source": [
    "text[7:13]"
   ]
  },
  {
   "cell_type": "code",
   "execution_count": 7,
   "id": "b6547384",
   "metadata": {},
   "outputs": [
    {
     "data": {
      "text/plain": [
       "'I LOVE PYTHO'"
      ]
     },
     "execution_count": 7,
     "metadata": {},
     "output_type": "execute_result"
    }
   ],
   "source": [
    "text[0:-1]"
   ]
  },
  {
   "cell_type": "code",
   "execution_count": 8,
   "id": "e48f7935",
   "metadata": {},
   "outputs": [
    {
     "data": {
      "text/plain": [
       "'NOHTYP EVOL I'"
      ]
     },
     "execution_count": 8,
     "metadata": {},
     "output_type": "execute_result"
    }
   ],
   "source": [
    "text[::-1]"
   ]
  },
  {
   "cell_type": "code",
   "execution_count": 9,
   "id": "68b9a83b",
   "metadata": {},
   "outputs": [
    {
     "data": {
      "text/plain": [
       "'L'"
      ]
     },
     "execution_count": 9,
     "metadata": {},
     "output_type": "execute_result"
    }
   ],
   "source": [
    "text[::-1][-3]"
   ]
  },
  {
   "cell_type": "code",
   "execution_count": 10,
   "id": "7aaacd2c",
   "metadata": {},
   "outputs": [
    {
     "data": {
      "text/plain": [
       "'L'"
      ]
     },
     "execution_count": 10,
     "metadata": {},
     "output_type": "execute_result"
    }
   ],
   "source": [
    "text[::-1][10]"
   ]
  },
  {
   "cell_type": "code",
   "execution_count": 11,
   "id": "fa50a77c",
   "metadata": {},
   "outputs": [
    {
     "data": {
      "text/plain": [
       "'I LOVE PYTHON'"
      ]
     },
     "execution_count": 11,
     "metadata": {},
     "output_type": "execute_result"
    }
   ],
   "source": [
    "text[::-1][::-1]"
   ]
  },
  {
   "cell_type": "code",
   "execution_count": 12,
   "id": "e17e5dc8",
   "metadata": {},
   "outputs": [
    {
     "data": {
      "text/plain": [
       "'PYTHON'"
      ]
     },
     "execution_count": 12,
     "metadata": {},
     "output_type": "execute_result"
    }
   ],
   "source": [
    "text[::-1][:6][::-1]"
   ]
  },
  {
   "cell_type": "markdown",
   "id": "d7a18751",
   "metadata": {},
   "source": [
    "### STRING HANDLING"
   ]
  },
  {
   "cell_type": "code",
   "execution_count": 13,
   "id": "51f1c5fb",
   "metadata": {},
   "outputs": [
    {
     "data": {
      "text/plain": [
       "'I LOVE DATA SCIENCE'"
      ]
     },
     "execution_count": 13,
     "metadata": {},
     "output_type": "execute_result"
    }
   ],
   "source": [
    "text.replace(\"PYTHON\",\"DATA SCIENCE\")"
   ]
  },
  {
   "cell_type": "code",
   "execution_count": 14,
   "id": "955ade58",
   "metadata": {},
   "outputs": [
    {
     "data": {
      "text/plain": [
       "'i love python'"
      ]
     },
     "execution_count": 14,
     "metadata": {},
     "output_type": "execute_result"
    }
   ],
   "source": [
    "text.lower()"
   ]
  },
  {
   "cell_type": "code",
   "execution_count": 15,
   "id": "80091ca5",
   "metadata": {},
   "outputs": [
    {
     "data": {
      "text/plain": [
       "'I LOVE PYTHON'"
      ]
     },
     "execution_count": 15,
     "metadata": {},
     "output_type": "execute_result"
    }
   ],
   "source": [
    "text.upper()"
   ]
  },
  {
   "cell_type": "code",
   "execution_count": 16,
   "id": "afe44340",
   "metadata": {},
   "outputs": [],
   "source": [
    "text=\"****I#love#python*****\""
   ]
  },
  {
   "cell_type": "code",
   "execution_count": 17,
   "id": "66564705",
   "metadata": {},
   "outputs": [
    {
     "data": {
      "text/plain": [
       "'I#love#python'"
      ]
     },
     "execution_count": 17,
     "metadata": {},
     "output_type": "execute_result"
    }
   ],
   "source": [
    "text.strip('*')"
   ]
  },
  {
   "cell_type": "code",
   "execution_count": 18,
   "id": "f5e0ef5b",
   "metadata": {},
   "outputs": [
    {
     "data": {
      "text/plain": [
       "'****I#love#python*****'"
      ]
     },
     "execution_count": 18,
     "metadata": {},
     "output_type": "execute_result"
    }
   ],
   "source": [
    "text.strip('#')"
   ]
  },
  {
   "cell_type": "code",
   "execution_count": 19,
   "id": "48c4fe8b",
   "metadata": {},
   "outputs": [],
   "source": [
    "str=text.replace('#',\" \")"
   ]
  },
  {
   "cell_type": "code",
   "execution_count": 20,
   "id": "7eafa68a",
   "metadata": {},
   "outputs": [],
   "source": [
    "str=text.strip(\"*\")"
   ]
  },
  {
   "cell_type": "code",
   "execution_count": 21,
   "id": "834586d3",
   "metadata": {},
   "outputs": [
    {
     "data": {
      "text/plain": [
       "'I#love#python'"
      ]
     },
     "execution_count": 21,
     "metadata": {},
     "output_type": "execute_result"
    }
   ],
   "source": [
    "str"
   ]
  }
 ],
 "metadata": {
  "kernelspec": {
   "display_name": "Python 3",
   "language": "python",
   "name": "python3"
  },
  "language_info": {
   "codemirror_mode": {
    "name": "ipython",
    "version": 3
   },
   "file_extension": ".py",
   "mimetype": "text/x-python",
   "name": "python",
   "nbconvert_exporter": "python",
   "pygments_lexer": "ipython3",
   "version": "3.8.8"
  }
 },
 "nbformat": 4,
 "nbformat_minor": 5
}
