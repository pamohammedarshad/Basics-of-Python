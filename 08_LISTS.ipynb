{
 "cells": [
  {
   "cell_type": "code",
   "execution_count": 1,
   "id": "3cf94e44",
   "metadata": {},
   "outputs": [],
   "source": [
    "#diffference b/w concat and extend"
   ]
  },
  {
   "cell_type": "code",
   "execution_count": 2,
   "id": "0998b50b",
   "metadata": {},
   "outputs": [],
   "source": [
    "#sort and reverse diff"
   ]
  },
  {
   "cell_type": "markdown",
   "id": "5c4c29d9",
   "metadata": {},
   "source": [
    "### Creating a list"
   ]
  },
  {
   "cell_type": "code",
   "execution_count": 3,
   "id": "f466903b",
   "metadata": {},
   "outputs": [
    {
     "name": "stdout",
     "output_type": "stream",
     "text": [
      "['kenny', 'sankeerth', 'latha', 'Aarthi']\n"
     ]
    },
    {
     "data": {
      "text/plain": [
       "list"
      ]
     },
     "execution_count": 3,
     "metadata": {},
     "output_type": "execute_result"
    }
   ],
   "source": [
    "list_of_friends=['kenny','sankeerth','latha','Aarthi']\n",
    "print(list_of_friends)\n",
    "type(list_of_friends)\n"
   ]
  },
  {
   "cell_type": "code",
   "execution_count": 4,
   "id": "025c5582",
   "metadata": {},
   "outputs": [
    {
     "name": "stdout",
     "output_type": "stream",
     "text": [
      "['kenny', 'sankeerth', 'latha', 'Aarthi', 'Venkat', 'kanna', 'jack']\n"
     ]
    }
   ],
   "source": [
    "list2_of_friends=['Venkat','kanna','jack']\n",
    "new_list=list_of_friends+list2_of_friends\n",
    "print(new_list)"
   ]
  },
  {
   "cell_type": "markdown",
   "id": "9f790c3d",
   "metadata": {},
   "source": [
    "### Sorting"
   ]
  },
  {
   "cell_type": "code",
   "execution_count": 5,
   "id": "b1565e7d",
   "metadata": {},
   "outputs": [
    {
     "data": {
      "text/plain": [
       "['Aarthi', 'Venkat', 'jack', 'kanna', 'kenny', 'latha', 'sankeerth']"
      ]
     },
     "execution_count": 5,
     "metadata": {},
     "output_type": "execute_result"
    }
   ],
   "source": [
    "new_list.sort()\n",
    "new_list"
   ]
  },
  {
   "cell_type": "code",
   "execution_count": 6,
   "id": "be86df55",
   "metadata": {},
   "outputs": [
    {
     "data": {
      "text/plain": [
       "[4.3, 5, 6.7, 9.9, 45, 100]"
      ]
     },
     "execution_count": 6,
     "metadata": {},
     "output_type": "execute_result"
    }
   ],
   "source": [
    "sample_data=[4.3,5,6.7,9.9,100,45]\n",
    "sample_data.sort()\n",
    "sample_data"
   ]
  },
  {
   "cell_type": "markdown",
   "id": "0e7de752",
   "metadata": {},
   "source": [
    "### List with mixed datatypes"
   ]
  },
  {
   "cell_type": "code",
   "execution_count": 7,
   "id": "b4f5602f",
   "metadata": {},
   "outputs": [],
   "source": [
    "list_with_mixed_datatypes=[3,99.99,'apple',1j,'MANGO']\n"
   ]
  },
  {
   "cell_type": "code",
   "execution_count": 8,
   "id": "c8cc6059",
   "metadata": {},
   "outputs": [
    {
     "ename": "TypeError",
     "evalue": "'<' not supported between instances of 'str' and 'float'",
     "output_type": "error",
     "traceback": [
      "\u001b[1;31m---------------------------------------------------------------------------\u001b[0m",
      "\u001b[1;31mTypeError\u001b[0m                                 Traceback (most recent call last)",
      "\u001b[1;32m<ipython-input-8-634d7d58d60f>\u001b[0m in \u001b[0;36m<module>\u001b[1;34m\u001b[0m\n\u001b[1;32m----> 1\u001b[1;33m \u001b[0mlist_with_mixed_datatypes\u001b[0m\u001b[1;33m.\u001b[0m\u001b[0msort\u001b[0m\u001b[1;33m(\u001b[0m\u001b[1;33m)\u001b[0m\u001b[1;33m\u001b[0m\u001b[1;33m\u001b[0m\u001b[0m\n\u001b[0m",
      "\u001b[1;31mTypeError\u001b[0m: '<' not supported between instances of 'str' and 'float'"
     ]
    }
   ],
   "source": [
    "list_with_mixed_datatypes.sort()"
   ]
  },
  {
   "cell_type": "markdown",
   "id": "9a9ab48f",
   "metadata": {},
   "source": [
    "### IN ,NOT IN"
   ]
  },
  {
   "cell_type": "code",
   "execution_count": 9,
   "id": "ea685535",
   "metadata": {},
   "outputs": [
    {
     "name": "stdout",
     "output_type": "stream",
     "text": [
      "True\n"
     ]
    }
   ],
   "source": [
    "print(9.9 in sample_data)"
   ]
  },
  {
   "cell_type": "code",
   "execution_count": 10,
   "id": "6dcb2856",
   "metadata": {
    "scrolled": true
   },
   "outputs": [
    {
     "name": "stdout",
     "output_type": "stream",
     "text": [
      "True\n"
     ]
    }
   ],
   "source": [
    "print(33 not in sample_data)"
   ]
  },
  {
   "cell_type": "markdown",
   "id": "d4816c6e",
   "metadata": {},
   "source": [
    "### Length of a list"
   ]
  },
  {
   "cell_type": "code",
   "execution_count": 11,
   "id": "cb0b9db3",
   "metadata": {},
   "outputs": [
    {
     "name": "stdout",
     "output_type": "stream",
     "text": [
      "6\n"
     ]
    }
   ],
   "source": [
    "print(len(sample_data))"
   ]
  },
  {
   "cell_type": "markdown",
   "id": "fcbe127e",
   "metadata": {},
   "source": [
    "### Min Max"
   ]
  },
  {
   "cell_type": "code",
   "execution_count": 12,
   "id": "776b6366",
   "metadata": {},
   "outputs": [
    {
     "data": {
      "text/plain": [
       "100"
      ]
     },
     "execution_count": 12,
     "metadata": {},
     "output_type": "execute_result"
    }
   ],
   "source": [
    "max(sample_data)"
   ]
  },
  {
   "cell_type": "code",
   "execution_count": 13,
   "id": "7e2dccb6",
   "metadata": {},
   "outputs": [
    {
     "data": {
      "text/plain": [
       "4.3"
      ]
     },
     "execution_count": 13,
     "metadata": {},
     "output_type": "execute_result"
    }
   ],
   "source": [
    "min(sample_data)"
   ]
  },
  {
   "cell_type": "markdown",
   "id": "e271c0f0",
   "metadata": {},
   "source": [
    "### Append"
   ]
  },
  {
   "cell_type": "code",
   "execution_count": 14,
   "id": "659bffbb",
   "metadata": {},
   "outputs": [],
   "source": [
    "sample_data.append('4.5')"
   ]
  },
  {
   "cell_type": "code",
   "execution_count": 15,
   "id": "3d3ccd69",
   "metadata": {},
   "outputs": [
    {
     "ename": "TypeError",
     "evalue": "'>' not supported between instances of 'str' and 'int'",
     "output_type": "error",
     "traceback": [
      "\u001b[1;31m---------------------------------------------------------------------------\u001b[0m",
      "\u001b[1;31mTypeError\u001b[0m                                 Traceback (most recent call last)",
      "\u001b[1;32m<ipython-input-15-711964261e9d>\u001b[0m in \u001b[0;36m<module>\u001b[1;34m\u001b[0m\n\u001b[1;32m----> 1\u001b[1;33m \u001b[0mmax\u001b[0m\u001b[1;33m(\u001b[0m\u001b[0msample_data\u001b[0m\u001b[1;33m)\u001b[0m\u001b[1;33m\u001b[0m\u001b[1;33m\u001b[0m\u001b[0m\n\u001b[0m",
      "\u001b[1;31mTypeError\u001b[0m: '>' not supported between instances of 'str' and 'int'"
     ]
    }
   ],
   "source": [
    "max(sample_data)"
   ]
  },
  {
   "cell_type": "markdown",
   "id": "2942011a",
   "metadata": {},
   "source": [
    "### Removing elements in a list"
   ]
  },
  {
   "cell_type": "code",
   "execution_count": 16,
   "id": "be3b9e83",
   "metadata": {},
   "outputs": [
    {
     "data": {
      "text/plain": [
       "[]"
      ]
     },
     "execution_count": 16,
     "metadata": {},
     "output_type": "execute_result"
    }
   ],
   "source": [
    "list2_of_friends.clear()\n",
    "list2_of_friends"
   ]
  },
  {
   "cell_type": "code",
   "execution_count": 17,
   "id": "6d898e0e",
   "metadata": {},
   "outputs": [
    {
     "name": "stdout",
     "output_type": "stream",
     "text": [
      "[4.3, 5, 6.7, 9.9, 45, 100, '4.5']\n"
     ]
    }
   ],
   "source": [
    "#copy of a list\n",
    "lst=sample_data.copy()\n",
    "print(lst)"
   ]
  },
  {
   "cell_type": "code",
   "execution_count": 18,
   "id": "39bf8135",
   "metadata": {},
   "outputs": [
    {
     "data": {
      "text/plain": [
       "1"
      ]
     },
     "execution_count": 18,
     "metadata": {},
     "output_type": "execute_result"
    }
   ],
   "source": [
    "lst.count(9.9)"
   ]
  },
  {
   "cell_type": "markdown",
   "id": "fa01baab",
   "metadata": {},
   "source": [
    "### Extending a list"
   ]
  },
  {
   "cell_type": "code",
   "execution_count": 19,
   "id": "bdffc144",
   "metadata": {},
   "outputs": [
    {
     "data": {
      "text/plain": [
       "[4.3,\n",
       " 5,\n",
       " 6.7,\n",
       " 9.9,\n",
       " 45,\n",
       " 100,\n",
       " '4.5',\n",
       " 'Aarthi',\n",
       " 'Venkat',\n",
       " 'jack',\n",
       " 'kanna',\n",
       " 'kenny',\n",
       " 'latha',\n",
       " 'sankeerth']"
      ]
     },
     "execution_count": 19,
     "metadata": {},
     "output_type": "execute_result"
    }
   ],
   "source": [
    "lst.extend(new_list)\n",
    "lst"
   ]
  },
  {
   "cell_type": "markdown",
   "id": "ebd27933",
   "metadata": {},
   "source": [
    "### Returning the index value"
   ]
  },
  {
   "cell_type": "code",
   "execution_count": 20,
   "id": "55a50f5f",
   "metadata": {},
   "outputs": [
    {
     "data": {
      "text/plain": [
       "2"
      ]
     },
     "execution_count": 20,
     "metadata": {},
     "output_type": "execute_result"
    }
   ],
   "source": [
    "lst.index(6.7)\n"
   ]
  },
  {
   "cell_type": "markdown",
   "id": "b7d53a9e",
   "metadata": {},
   "source": [
    "### Inserting the elememts in the specified index value "
   ]
  },
  {
   "cell_type": "code",
   "execution_count": 21,
   "id": "ff746f15",
   "metadata": {},
   "outputs": [],
   "source": [
    "lst.insert(4,5.5)"
   ]
  },
  {
   "cell_type": "code",
   "execution_count": 22,
   "id": "0b14af82",
   "metadata": {},
   "outputs": [
    {
     "data": {
      "text/plain": [
       "[4.3,\n",
       " 5,\n",
       " 6.7,\n",
       " 9.9,\n",
       " 5.5,\n",
       " 45,\n",
       " 100,\n",
       " '4.5',\n",
       " 'Aarthi',\n",
       " 'Venkat',\n",
       " 'jack',\n",
       " 'kanna',\n",
       " 'kenny',\n",
       " 'latha',\n",
       " 'sankeerth']"
      ]
     },
     "execution_count": 22,
     "metadata": {},
     "output_type": "execute_result"
    }
   ],
   "source": [
    "lst"
   ]
  },
  {
   "cell_type": "markdown",
   "id": "d8b4d729",
   "metadata": {},
   "source": [
    "### Pop"
   ]
  },
  {
   "cell_type": "code",
   "execution_count": 23,
   "id": "b618b1f8",
   "metadata": {},
   "outputs": [
    {
     "data": {
      "text/plain": [
       "[4.3,\n",
       " 5,\n",
       " 6.7,\n",
       " 9.9,\n",
       " 5.5,\n",
       " 45,\n",
       " 100,\n",
       " 'Aarthi',\n",
       " 'Venkat',\n",
       " 'jack',\n",
       " 'kanna',\n",
       " 'kenny',\n",
       " 'latha',\n",
       " 'sankeerth']"
      ]
     },
     "execution_count": 23,
     "metadata": {},
     "output_type": "execute_result"
    }
   ],
   "source": [
    "lst.pop(7)\n",
    "lst"
   ]
  },
  {
   "cell_type": "markdown",
   "id": "a29d09c2",
   "metadata": {},
   "source": [
    "### Remove"
   ]
  },
  {
   "cell_type": "code",
   "execution_count": 24,
   "id": "c25717e0",
   "metadata": {},
   "outputs": [
    {
     "data": {
      "text/plain": [
       "[4.3,\n",
       " 6.7,\n",
       " 9.9,\n",
       " 5.5,\n",
       " 45,\n",
       " 100,\n",
       " 'Aarthi',\n",
       " 'Venkat',\n",
       " 'jack',\n",
       " 'kanna',\n",
       " 'kenny',\n",
       " 'latha',\n",
       " 'sankeerth']"
      ]
     },
     "execution_count": 24,
     "metadata": {},
     "output_type": "execute_result"
    }
   ],
   "source": [
    "lst.remove(5)\n",
    "lst"
   ]
  },
  {
   "cell_type": "markdown",
   "id": "1abccfaa",
   "metadata": {},
   "source": [
    "### List Slicing"
   ]
  },
  {
   "cell_type": "code",
   "execution_count": 25,
   "id": "75b15d91",
   "metadata": {},
   "outputs": [
    {
     "data": {
      "text/plain": [
       "[5.5, 45]"
      ]
     },
     "execution_count": 25,
     "metadata": {},
     "output_type": "execute_result"
    }
   ],
   "source": [
    "lst[3:5]"
   ]
  },
  {
   "cell_type": "code",
   "execution_count": 26,
   "id": "a2856d38",
   "metadata": {},
   "outputs": [
    {
     "data": {
      "text/plain": [
       "[4.3, 6.7, 9.9]"
      ]
     },
     "execution_count": 26,
     "metadata": {},
     "output_type": "execute_result"
    }
   ],
   "source": [
    "lst[0:3]"
   ]
  },
  {
   "cell_type": "code",
   "execution_count": 27,
   "id": "abb097e0",
   "metadata": {},
   "outputs": [
    {
     "data": {
      "text/plain": [
       "'kanna'"
      ]
     },
     "execution_count": 27,
     "metadata": {},
     "output_type": "execute_result"
    }
   ],
   "source": [
    "lst[-4]"
   ]
  },
  {
   "cell_type": "code",
   "execution_count": 28,
   "id": "3e01f1cb",
   "metadata": {},
   "outputs": [
    {
     "data": {
      "text/plain": [
       "[4.3,\n",
       " 6.7,\n",
       " 9.9,\n",
       " 5.5,\n",
       " 45,\n",
       " 100,\n",
       " 'Aarthi',\n",
       " 'Venkat',\n",
       " 'jack',\n",
       " 'kanna',\n",
       " 'kenny',\n",
       " 'latha']"
      ]
     },
     "execution_count": 28,
     "metadata": {},
     "output_type": "execute_result"
    }
   ],
   "source": [
    "lst[0:-1]"
   ]
  }
 ],
 "metadata": {
  "kernelspec": {
   "display_name": "Python 3",
   "language": "python",
   "name": "python3"
  },
  "language_info": {
   "codemirror_mode": {
    "name": "ipython",
    "version": 3
   },
   "file_extension": ".py",
   "mimetype": "text/x-python",
   "name": "python",
   "nbconvert_exporter": "python",
   "pygments_lexer": "ipython3",
   "version": "3.8.8"
  }
 },
 "nbformat": 4,
 "nbformat_minor": 5
}
